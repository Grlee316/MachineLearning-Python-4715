{
  "nbformat": 4,
  "nbformat_minor": 0,
  "metadata": {
    "colab": {
      "provenance": [],
      "authorship_tag": "ABX9TyPDBh34YRUMlnWh4WvVp0rn",
      "include_colab_link": true
    },
    "kernelspec": {
      "name": "python3",
      "display_name": "Python 3"
    },
    "language_info": {
      "name": "python"
    }
  },
  "cells": [
    {
      "cell_type": "markdown",
      "metadata": {
        "id": "view-in-github",
        "colab_type": "text"
      },
      "source": [
        "<a href=\"https://colab.research.google.com/github/Grlee316/PythonLearning/blob/main/NumpyIntro.ipynb\" target=\"_parent\"><img src=\"https://colab.research.google.com/assets/colab-badge.svg\" alt=\"Open In Colab\"/></a>"
      ]
    },
    {
      "cell_type": "markdown",
      "source": [
        "#NUMPY\n",
        "\n",
        "like matlab but not a matlab\n",
        "\n",
        "not made to replace matlab\n",
        "\n",
        "ndarray"
      ],
      "metadata": {
        "id": "tUGk7lzGeqWO"
      }
    },
    {
      "cell_type": "code",
      "source": [
        "!apt-get install -y git"
      ],
      "metadata": {
        "colab": {
          "base_uri": "https://localhost:8080/"
        },
        "id": "J2qzJ0IUj--_",
        "outputId": "5c34807b-00ef-4c57-926a-e0d1107b3df9"
      },
      "execution_count": null,
      "outputs": [
        {
          "output_type": "stream",
          "name": "stdout",
          "text": [
            "Reading package lists... Done\n",
            "Building dependency tree... Done\n",
            "Reading state information... Done\n",
            "git is already the newest version (1:2.34.1-1ubuntu1.10).\n",
            "0 upgraded, 0 newly installed, 0 to remove and 16 not upgraded.\n"
          ]
        }
      ]
    },
    {
      "cell_type": "code",
      "source": [
        "!git clone https://github.com/Grlee316/PythonLearning"
      ],
      "metadata": {
        "colab": {
          "base_uri": "https://localhost:8080/"
        },
        "id": "KSq2KFC0kSJg",
        "outputId": "2fe38247-d093-4d9c-e6ba-fc957613f0db"
      },
      "execution_count": null,
      "outputs": [
        {
          "output_type": "stream",
          "name": "stdout",
          "text": [
            "fatal: destination path 'PythonLearning' already exists and is not an empty directory.\n"
          ]
        }
      ]
    },
    {
      "cell_type": "code",
      "source": [
        "#numerical python\n",
        "import numpy as np\n"
      ],
      "metadata": {
        "id": "pTkQZB1MesYB"
      },
      "execution_count": 2,
      "outputs": []
    },
    {
      "cell_type": "code",
      "source": [
        "v = np.array([1,2,3]) #creating an array by giving a container\n"
      ],
      "metadata": {
        "id": "miaz-17lgOWd"
      },
      "execution_count": null,
      "outputs": []
    },
    {
      "cell_type": "code",
      "source": [
        "v"
      ],
      "metadata": {
        "colab": {
          "base_uri": "https://localhost:8080/"
        },
        "id": "N3hYk9eZgS_9",
        "outputId": "3a645f31-a0aa-4b94-d287-09226774e553"
      },
      "execution_count": null,
      "outputs": [
        {
          "output_type": "execute_result",
          "data": {
            "text/plain": [
              "array([1, 2, 3])"
            ]
          },
          "metadata": {},
          "execution_count": 5
        }
      ]
    },
    {
      "cell_type": "code",
      "source": [
        "type(v)"
      ],
      "metadata": {
        "colab": {
          "base_uri": "https://localhost:8080/"
        },
        "id": "77K4lSA8gWFl",
        "outputId": "406ec040-4f06-4a13-8259-78ff37556883"
      },
      "execution_count": null,
      "outputs": [
        {
          "output_type": "execute_result",
          "data": {
            "text/plain": [
              "numpy.ndarray"
            ]
          },
          "metadata": {},
          "execution_count": 8
        }
      ]
    },
    {
      "cell_type": "code",
      "source": [
        "v.ndim #ndimension"
      ],
      "metadata": {
        "colab": {
          "base_uri": "https://localhost:8080/"
        },
        "id": "NYan-Y0cggEO",
        "outputId": "ce55d4e9-3313-4713-9b4f-694170857b7c"
      },
      "execution_count": null,
      "outputs": [
        {
          "output_type": "execute_result",
          "data": {
            "text/plain": [
              "1"
            ]
          },
          "metadata": {},
          "execution_count": 10
        }
      ]
    },
    {
      "cell_type": "code",
      "source": [
        "v.shape #shape -> 3 collumns no rows (1 dimensions)"
      ],
      "metadata": {
        "colab": {
          "base_uri": "https://localhost:8080/"
        },
        "id": "F8WTqb55gjT_",
        "outputId": "d6997a0a-ee99-42bc-bc1e-40404acea173"
      },
      "execution_count": null,
      "outputs": [
        {
          "output_type": "execute_result",
          "data": {
            "text/plain": [
              "(3,)"
            ]
          },
          "metadata": {},
          "execution_count": 13
        }
      ]
    },
    {
      "cell_type": "code",
      "source": [
        "v.size #how many elements in total"
      ],
      "metadata": {
        "colab": {
          "base_uri": "https://localhost:8080/"
        },
        "id": "3frDc6nzgpVQ",
        "outputId": "6c67dd92-9b10-467e-de89-53539fd2a13b"
      },
      "execution_count": null,
      "outputs": [
        {
          "output_type": "execute_result",
          "data": {
            "text/plain": [
              "3"
            ]
          },
          "metadata": {},
          "execution_count": 15
        }
      ]
    },
    {
      "cell_type": "code",
      "source": [
        "v.dtype"
      ],
      "metadata": {
        "colab": {
          "base_uri": "https://localhost:8080/"
        },
        "id": "FY8lZmCBgy5v",
        "outputId": "016a6328-6322-463d-d221-471bc67e8f50"
      },
      "execution_count": null,
      "outputs": [
        {
          "output_type": "execute_result",
          "data": {
            "text/plain": [
              "dtype('int64')"
            ]
          },
          "metadata": {},
          "execution_count": 17
        }
      ]
    },
    {
      "cell_type": "code",
      "source": [
        "m = np.array(\n",
        "    [[1,2,3],\n",
        "     [4,5,6]]\n",
        ")"
      ],
      "metadata": {
        "id": "94k50iVpg6U_"
      },
      "execution_count": null,
      "outputs": []
    },
    {
      "cell_type": "code",
      "source": [
        "m"
      ],
      "metadata": {
        "colab": {
          "base_uri": "https://localhost:8080/"
        },
        "id": "myLOw3OdhifY",
        "outputId": "63e23303-25eb-4a33-f03f-823119d17fa4"
      },
      "execution_count": null,
      "outputs": [
        {
          "output_type": "execute_result",
          "data": {
            "text/plain": [
              "array([[1, 2, 3],\n",
              "       [4, 5, 6]])"
            ]
          },
          "metadata": {},
          "execution_count": 24
        }
      ]
    },
    {
      "cell_type": "code",
      "source": [
        "print(m)"
      ],
      "metadata": {
        "colab": {
          "base_uri": "https://localhost:8080/"
        },
        "id": "Va2rzXPnhlv7",
        "outputId": "3b2d43a6-e512-4ad7-8647-7ce76296f20d"
      },
      "execution_count": null,
      "outputs": [
        {
          "output_type": "stream",
          "name": "stdout",
          "text": [
            "[[1 2 3]\n",
            " [4 5 6]]\n"
          ]
        }
      ]
    },
    {
      "cell_type": "code",
      "source": [
        "m.shape"
      ],
      "metadata": {
        "colab": {
          "base_uri": "https://localhost:8080/"
        },
        "id": "CuvzGlHVhxM1",
        "outputId": "2adb57f1-3c65-4e9c-f0d3-99b8df6b5522"
      },
      "execution_count": null,
      "outputs": [
        {
          "output_type": "execute_result",
          "data": {
            "text/plain": [
              "(2, 3)"
            ]
          },
          "metadata": {},
          "execution_count": 27
        }
      ]
    },
    {
      "cell_type": "code",
      "source": [
        "m.ndim;"
      ],
      "metadata": {
        "id": "UPJfrluBhyxS"
      },
      "execution_count": null,
      "outputs": []
    },
    {
      "cell_type": "code",
      "source": [
        "m.size"
      ],
      "metadata": {
        "colab": {
          "base_uri": "https://localhost:8080/"
        },
        "id": "tnB0akSCh9oX",
        "outputId": "5fd88493-2aae-4991-9422-7f780885d9fa"
      },
      "execution_count": null,
      "outputs": [
        {
          "output_type": "execute_result",
          "data": {
            "text/plain": [
              "6"
            ]
          },
          "metadata": {},
          "execution_count": 30
        }
      ]
    },
    {
      "cell_type": "code",
      "source": [
        "#tensors\n",
        "t = np.array(\n",
        "    [[[1,2,3],[1,2,3]],\n",
        "    [[10,20,30],[40,50,60]\n",
        "]])"
      ],
      "metadata": {
        "id": "5r23tIYqiADh"
      },
      "execution_count": null,
      "outputs": []
    },
    {
      "cell_type": "code",
      "source": [
        "t"
      ],
      "metadata": {
        "colab": {
          "base_uri": "https://localhost:8080/"
        },
        "id": "ouflPSz4iwyF",
        "outputId": "79d255ec-26dd-42b6-da50-d466ae13ddeb"
      },
      "execution_count": null,
      "outputs": [
        {
          "output_type": "execute_result",
          "data": {
            "text/plain": [
              "array([[[ 1,  2,  3],\n",
              "        [ 1,  2,  3]],\n",
              "\n",
              "       [[10, 20, 30],\n",
              "        [40, 50, 60]]])"
            ]
          },
          "metadata": {},
          "execution_count": 35
        }
      ]
    },
    {
      "cell_type": "code",
      "source": [
        "t.shape"
      ],
      "metadata": {
        "colab": {
          "base_uri": "https://localhost:8080/"
        },
        "id": "_p704Ny0i7s1",
        "outputId": "ac969a2e-e631-48c1-bb02-a63963c76dbe"
      },
      "execution_count": null,
      "outputs": [
        {
          "output_type": "execute_result",
          "data": {
            "text/plain": [
              "(2, 2, 3)"
            ]
          },
          "metadata": {},
          "execution_count": 36
        }
      ]
    },
    {
      "cell_type": "code",
      "source": [
        "t.ndim"
      ],
      "metadata": {
        "colab": {
          "base_uri": "https://localhost:8080/"
        },
        "id": "hfwiCcNKi935",
        "outputId": "156b1363-9357-402f-893c-b27d1db77139"
      },
      "execution_count": null,
      "outputs": [
        {
          "output_type": "execute_result",
          "data": {
            "text/plain": [
              "3"
            ]
          },
          "metadata": {},
          "execution_count": 37
        }
      ]
    },
    {
      "cell_type": "code",
      "source": [
        "# Placeholders\n",
        "z = np.zeros([2,2,3])\n",
        "z"
      ],
      "metadata": {
        "colab": {
          "base_uri": "https://localhost:8080/"
        },
        "id": "MKHal-tBi_zx",
        "outputId": "449ed9f1-e2b7-4e1b-b55d-00b57f4c5e17"
      },
      "execution_count": null,
      "outputs": [
        {
          "output_type": "execute_result",
          "data": {
            "text/plain": [
              "array([[[0., 0., 0.],\n",
              "        [0., 0., 0.]],\n",
              "\n",
              "       [[0., 0., 0.],\n",
              "        [0., 0., 0.]]])"
            ]
          },
          "metadata": {},
          "execution_count": 41
        }
      ]
    },
    {
      "cell_type": "code",
      "source": [
        "# in Numpy, you cannot just append it\n",
        "\n",
        "e = np.eye(5) #identity matriz\n",
        "e"
      ],
      "metadata": {
        "colab": {
          "base_uri": "https://localhost:8080/"
        },
        "id": "KFlkYnzDjwP5",
        "outputId": "1daa2055-5ccb-498a-edea-d61632bd702a"
      },
      "execution_count": null,
      "outputs": [
        {
          "output_type": "execute_result",
          "data": {
            "text/plain": [
              "array([[1., 0., 0., 0., 0.],\n",
              "       [0., 1., 0., 0., 0.],\n",
              "       [0., 0., 1., 0., 0.],\n",
              "       [0., 0., 0., 1., 0.],\n",
              "       [0., 0., 0., 0., 1.]])"
            ]
          },
          "metadata": {},
          "execution_count": 59
        }
      ]
    },
    {
      "cell_type": "code",
      "source": [
        "ra = np.random.randn(3,4)\n",
        "ra"
      ],
      "metadata": {
        "colab": {
          "base_uri": "https://localhost:8080/"
        },
        "id": "JGP9TVEXmREV",
        "outputId": "bc53c1a5-c396-4fa3-8bde-70217f92d866"
      },
      "execution_count": null,
      "outputs": [
        {
          "output_type": "execute_result",
          "data": {
            "text/plain": [
              "array([[ 0.09739233,  0.02680859,  0.35937497,  1.03463145],\n",
              "       [ 0.63990272,  0.17807057, -0.72963665,  1.42841893],\n",
              "       [-0.8561266 , -1.87743861, -0.91320131, -0.71334101]])"
            ]
          },
          "metadata": {},
          "execution_count": 60
        }
      ]
    },
    {
      "cell_type": "code",
      "source": [
        "r = np.arange(10,20,0.5)\n",
        "r"
      ],
      "metadata": {
        "colab": {
          "base_uri": "https://localhost:8080/"
        },
        "id": "CeSK8_RGkuYJ",
        "outputId": "c612d5b6-9094-4f05-d48b-b914f57f835b"
      },
      "execution_count": null,
      "outputs": [
        {
          "output_type": "execute_result",
          "data": {
            "text/plain": [
              "array([10. , 10.5, 11. , 11.5, 12. , 12.5, 13. , 13.5, 14. , 14.5, 15. ,\n",
              "       15.5, 16. , 16.5, 17. , 17.5, 18. , 18.5, 19. , 19.5])"
            ]
          },
          "metadata": {},
          "execution_count": 63
        }
      ]
    },
    {
      "cell_type": "code",
      "source": [
        "r.shape #matrix of 20,0"
      ],
      "metadata": {
        "colab": {
          "base_uri": "https://localhost:8080/"
        },
        "id": "Hb8O86jHkwJ3",
        "outputId": "7a456739-f843-4159-f8c7-9c4a5af77d11"
      },
      "execution_count": null,
      "outputs": [
        {
          "output_type": "execute_result",
          "data": {
            "text/plain": [
              "(20,)"
            ]
          },
          "metadata": {},
          "execution_count": 64
        }
      ]
    },
    {
      "cell_type": "code",
      "source": [
        "rint = np.random.randint(5,10,(3,4))\n",
        "rint"
      ],
      "metadata": {
        "colab": {
          "base_uri": "https://localhost:8080/"
        },
        "id": "7SofNoHYmu_j",
        "outputId": "8cfe0dec-c6d5-4517-d60f-8f68126629fe"
      },
      "execution_count": null,
      "outputs": [
        {
          "output_type": "execute_result",
          "data": {
            "text/plain": [
              "array([[7, 6, 6, 8],\n",
              "       [8, 8, 6, 9],\n",
              "       [7, 7, 9, 9]])"
            ]
          },
          "metadata": {},
          "execution_count": 66
        }
      ]
    },
    {
      "cell_type": "code",
      "source": [
        "np.logspace(-100,100,10)"
      ],
      "metadata": {
        "colab": {
          "base_uri": "https://localhost:8080/"
        },
        "id": "NljxI306m3Jm",
        "outputId": "41165c8c-7486-4669-9032-78c1e7b4a1c6"
      },
      "execution_count": null,
      "outputs": [
        {
          "output_type": "execute_result",
          "data": {
            "text/plain": [
              "array([1.00000000e-100, 1.66810054e-078, 2.78255940e-056, 4.64158883e-034,\n",
              "       7.74263683e-012, 1.29154967e+011, 2.15443469e+033, 3.59381366e+055,\n",
              "       5.99484250e+077, 1.00000000e+100])"
            ]
          },
          "metadata": {},
          "execution_count": 67
        }
      ]
    },
    {
      "cell_type": "code",
      "source": [
        "np.logspace(-100,100)"
      ],
      "metadata": {
        "id": "PFic3xjDneEz",
        "outputId": "54b8a82f-8595-411e-f873-a1e6aecc5fb1",
        "colab": {
          "base_uri": "https://localhost:8080/"
        }
      },
      "execution_count": 4,
      "outputs": [
        {
          "output_type": "execute_result",
          "data": {
            "text/plain": [
              "array([1.00000000e-100, 1.20679264e-096, 1.45634848e-092, 1.75751062e-088,\n",
              "       2.12095089e-084, 2.55954792e-080, 3.08884360e-076, 3.72759372e-072,\n",
              "       4.49843267e-068, 5.42867544e-064, 6.55128557e-060, 7.90604321e-056,\n",
              "       9.54095476e-052, 1.15139540e-047, 1.38949549e-043, 1.67683294e-039,\n",
              "       2.02358965e-035, 2.44205309e-031, 2.94705170e-027, 3.55648031e-023,\n",
              "       4.29193426e-019, 5.17947468e-015, 6.25055193e-011, 7.54312006e-007,\n",
              "       9.10298178e-003, 1.09854114e+002, 1.32571137e+006, 1.59985872e+010,\n",
              "       1.93069773e+014, 2.32995181e+018, 2.81176870e+022, 3.39322177e+026,\n",
              "       4.09491506e+030, 4.94171336e+034, 5.96362332e+038, 7.19685673e+042,\n",
              "       8.68511374e+046, 1.04811313e+051, 1.26485522e+055, 1.52641797e+059,\n",
              "       1.84206997e+063, 2.22299648e+067, 2.68269580e+071, 3.23745754e+075,\n",
              "       3.90693994e+079, 4.71486636e+083, 5.68986603e+087, 6.86648845e+091,\n",
              "       8.28642773e+095, 1.00000000e+100])"
            ]
          },
          "metadata": {},
          "execution_count": 4
        }
      ]
    },
    {
      "cell_type": "code",
      "source": [],
      "metadata": {
        "id": "4Hw1GIAun6Cr"
      },
      "execution_count": null,
      "outputs": []
    }
  ]
}